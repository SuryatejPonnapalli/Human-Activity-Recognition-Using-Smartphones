{
 "cells": [
  {
   "cell_type": "raw",
   "id": "78f45041-e0f1-459a-ad95-2b7690213d9f",
   "metadata": {},
   "source": [
    "#Getting the csv file.\n",
    "From the feature.txt file get the features and add them to X_train.txt file."
   ]
  },
  {
   "cell_type": "code",
   "execution_count": null,
   "id": "d2d31f2f-b54c-4848-9d25-832ebf3d01b7",
   "metadata": {},
   "outputs": [],
   "source": [
    "import pandas as pd\n",
    "import glob as glob"
   ]
  },
  {
   "cell_type": "markdown",
   "id": "27ded488-3e99-4df7-83e6-ba363615f586",
   "metadata": {},
   "source": [
    "# Features\n",
    "Getting the features from features.txt"
   ]
  },
  {
   "cell_type": "code",
   "execution_count": 10,
   "id": "6e4a58b3-01a5-4dcd-b82e-9db579c7aef3",
   "metadata": {},
   "outputs": [
    {
     "name": "stdout",
     "output_type": "stream",
     "text": [
      "No of features 561\n"
     ]
    }
   ],
   "source": [
    "import numpy as np\n",
    "\n",
    "features = list()\n",
    "with open('../UCI HAR Dataset/features.txt') as f:\n",
    "    features = [line.split()[1] for line in f.readlines()]\n",
    "print('No of features {}'.format(len(features)))"
   ]
  },
  {
   "cell_type": "markdown",
   "id": "135518d6-d5ed-48c6-94ab-12e126032827",
   "metadata": {},
   "source": [
    "# Getting train data."
   ]
  },
  {
   "cell_type": "code",
   "execution_count": 11,
   "id": "c458d5af-88eb-49db-866c-a373c92930ad",
   "metadata": {
    "scrolled": true
   },
   "outputs": [
    {
     "data": {
      "text/plain": [
       "(7352, 564)"
      ]
     },
     "execution_count": 11,
     "metadata": {},
     "output_type": "execute_result"
    }
   ],
   "source": [
    "X_train = pd.read_csv('../UCI HAR Dataset/train/X_train.txt', sep='\\s+', engine='python', header = None)\n",
    "X_train.columns = [features]\n",
    "X_train['subject'] = pd.read_csv('../UCI HAR Dataset/train/subject_train.txt', header = None).squeeze()\n",
    "\n",
    "Y_train = pd.read_csv('../UCI HAR Dataset/train/y_train.txt', names = ['Activity']).squeeze()\n",
    "Y_train_labels = Y_train.map({1:'Walking', 2:'Walking_Upstairs',3:'Walking_Downstairs',4:'Sitting',5:'Standing',6:'Laying'})\n",
    "\n",
    "train = X_train\n",
    "train['Activity'] = Y_train\n",
    "train['ActivityName'] = Y_train_labels\n",
    "train.shape"
   ]
  },
  {
   "cell_type": "markdown",
   "id": "955dcfad-7bbf-401c-92c2-b750cccbc486",
   "metadata": {},
   "source": [
    "# Getting test data"
   ]
  },
  {
   "cell_type": "code",
   "execution_count": 12,
   "id": "6175ec04-e8d0-4b56-b55d-467398fb3d33",
   "metadata": {},
   "outputs": [
    {
     "data": {
      "text/plain": [
       "(2947, 564)"
      ]
     },
     "execution_count": 12,
     "metadata": {},
     "output_type": "execute_result"
    }
   ],
   "source": [
    "X_test = pd.read_csv('../UCI HAR Dataset/test/X_test.txt', sep='\\s+', engine='python', header = None)\n",
    "X_test.columns = [features]\n",
    "X_test['subject'] = pd.read_csv('../UCI HAR Dataset/test/subject_test.txt', header = None).squeeze()\n",
    "\n",
    "Y_test = pd.read_csv('../UCI HAR Dataset/test/y_test.txt', names = ['Activity']).squeeze()\n",
    "Y_test_labels = Y_train.map({1:'Walking', 2:'Walking_Upstairs',3:'Walking_Downstairs',4:'Sitting',5:'Standing',6:'Laying'})\n",
    "\n",
    "test = X_test\n",
    "test['Activity'] = Y_test\n",
    "test['ActivityName'] = Y_test_labels\n",
    "test.shape"
   ]
  },
  {
   "cell_type": "markdown",
   "id": "50647b5e-df14-4606-a127-b9eeccb17134",
   "metadata": {},
   "source": [
    "# Data cleaning\n",
    "Check for any data cleaning required"
   ]
  },
  {
   "cell_type": "code",
   "execution_count": 13,
   "id": "dc9d40bb-ce9a-47eb-b92e-8f7de0ed97da",
   "metadata": {},
   "outputs": [
    {
     "name": "stdout",
     "output_type": "stream",
     "text": [
      "No of duplicates in train : 0\n",
      "No of duplicates in test : 0\n"
     ]
    },
    {
     "name": "stderr",
     "output_type": "stream",
     "text": [
      "/var/folders/mt/pt81233j01b10c9vx5zzvlbh0000gn/T/ipykernel_32589/332374762.py:1: PerformanceWarning: indexing past lexsort depth may impact performance.\n",
      "  print('No of duplicates in train : {}'.format(sum(train.duplicated())))\n",
      "/var/folders/mt/pt81233j01b10c9vx5zzvlbh0000gn/T/ipykernel_32589/332374762.py:2: PerformanceWarning: indexing past lexsort depth may impact performance.\n",
      "  print('No of duplicates in test : {}'.format(sum(test.duplicated())))\n"
     ]
    }
   ],
   "source": [
    "print('No of duplicates in train : {}'.format(sum(train.duplicated())))                \n",
    "print('No of duplicates in test : {}'.format(sum(test.duplicated())))                 "
   ]
  },
  {
   "cell_type": "markdown",
   "id": "43c9c549-a527-4ea1-a1e0-2b783247e610",
   "metadata": {},
   "source": [
    "Checking for null values"
   ]
  },
  {
   "cell_type": "code",
   "execution_count": 14,
   "id": "e49bca70-e353-4be1-bec1-f9ce60b598ed",
   "metadata": {},
   "outputs": [
    {
     "name": "stdout",
     "output_type": "stream",
     "text": [
      "No of null in train : 0\n",
      "No of null in test : 0\n"
     ]
    }
   ],
   "source": [
    "print('No of null in train : {}'.format(train.isnull().values.sum()))                \n",
    "print('No of null in test : {}'.format(test.isnull().values.sum()))  "
   ]
  },
  {
   "cell_type": "markdown",
   "id": "8e7e8ec4-cbcd-46a2-845c-310c0f0bdcef",
   "metadata": {},
   "source": [
    "# Converting to csv\n",
    "Converting the dataframe to csv and storing it in required path."
   ]
  },
  {
   "cell_type": "code",
   "execution_count": 15,
   "id": "856505cb-2b77-4dbb-8b07-b2fe89cc7d5f",
   "metadata": {},
   "outputs": [],
   "source": [
    "train.to_csv('./processed/train.csv', index = False)\n",
    "test.to_csv('./processed/test.csv', index = False)"
   ]
  }
 ],
 "metadata": {
  "kernelspec": {
   "display_name": "Python 3 (ipykernel)",
   "language": "python",
   "name": "python3"
  },
  "language_info": {
   "codemirror_mode": {
    "name": "ipython",
    "version": 3
   },
   "file_extension": ".py",
   "mimetype": "text/x-python",
   "name": "python",
   "nbconvert_exporter": "python",
   "pygments_lexer": "ipython3",
   "version": "3.11.9"
  }
 },
 "nbformat": 4,
 "nbformat_minor": 5
}
